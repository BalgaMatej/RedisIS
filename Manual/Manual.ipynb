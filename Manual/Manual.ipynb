{
 "cells": [
  {
   "cell_type": "markdown",
   "metadata": {},
   "source": [
    "Před spuštěním ukázek je nejprve potřeba, spustit container s Redisem v Dockeru, dále pak následujicí kód. Ten implementuje do programu knihovnu Redis pro Python a spouští Redis na localhost na portu 6379"
   ]
  },
  {
   "cell_type": "code",
   "execution_count": 1,
   "metadata": {},
   "outputs": [],
   "source": [
    "import redis                                                                                #přidání knihovny do programu\n",
    "\n",
    "r = redis.Redis(host=\"localhost\", port=6379, charset=\"utf-8\", decode_responses=True)        #spuštění redis na localhostu na portu 6379"
   ]
  },
  {
   "cell_type": "markdown",
   "metadata": {},
   "source": [
    "Mezi základní příkazy, umožňujicí standardní operace, které bychom od Redisu očekávali, lze jdenoznačně zařadit následujicí tři\n",
    "\n",
    "Příkaz set(\"KEY\", \"VALUE\")\n",
    "pod zadaný KEY uloží data VALUE jako string, pokud KEY již VALUE obsahuje dojde dojde k jejímu přepsání\n",
    "\n",
    "Příkaz get(\"KEY\")\n",
    "slouží k vypsání uložených dat (VALUE) pod zadaným klíčem (KEY), pokud KEY neexistuje vrátí příkaz hodnotu none\n",
    "\n",
    "Příkaz delete(\"KEY\")\n",
    "smaže KEY, pokud KEY neexistuje neprovede nic"
   ]
  },
  {
   "cell_type": "code",
   "execution_count": 5,
   "metadata": {},
   "outputs": [
    {
     "name": "stdout",
     "output_type": "stream",
     "text": [
      "world\n",
      "None\n"
     ]
    }
   ],
   "source": [
    "r.set(\"hello\", \"world\")\n",
    "\n",
    "value = r.get(\"hello\")\n",
    "print(value) # world\n",
    "\n",
    "r.delete(\"hello\")\n",
    "print(r.get(\"hello\")) # None"
   ]
  },
  {
   "cell_type": "markdown",
   "metadata": {},
   "source": [
    "příkaz SET, má dále několik šikovných modifikací set(\"KEY\", \"VALUE\", nx=True) umožňuje přiřadit hodnotu (VALUE) pouze pokud zadaný klíč (KEY) doposud neexistuje, protipólem tohoto příkazu je set(\"KEY\", \"VALUE\", xx=True) který přepisuje hodnotu(VALUE) pouze již existujicímu klíči (KEY)"
   ]
  },
  {
   "cell_type": "code",
   "execution_count": 19,
   "metadata": {},
   "outputs": [
    {
     "name": "stdout",
     "output_type": "stream",
     "text": [
      "None\n",
      "clovek\n",
      "opice\n"
     ]
    }
   ],
   "source": [
    "r.delete(\"ja\") #ujistí se, že klíč není uložen, např při opětovném volání programu\n",
    "r.set(\"ja\", \"clovek\", xx=True) # pokusí se již existujicímu KEY přiřadit hodnotu, ten ovšem neexistuje, proto operace vrací none\n",
    "print(r.get(\"ja\")) # None\n",
    "\n",
    "r.set(\"ja\", \"clovek\", nx=True) # pokud KEY \"ja\" neexistuje vytvoří ho a přiřadí mu hodnotu \"clovek\"\n",
    "print(r.get(\"ja\")) # clovek\n",
    "\n",
    "r.set(\"ja\", \"opice\", xx=True) # pokusí se již existujicímu KEY přiřadit hodnotu, tentokrát se operace provede, jelikož klč již existuje\n",
    "print(r.get(\"ja\")) # opice"
   ]
  },
  {
   "cell_type": "markdown",
   "metadata": {},
   "source": [
    "další užitečnou modifikací příkazu SET je nastavení expirace KEY, expiraci můžeme přiřadit k již existujicímu KEY pomocí expire(\"KEY\", \"time in seconds\"), nebo KEY expiraci přiřadit již při vytvoření pomocí set(\"KEY\", \"VALUE\", ex=\"time in seconds\"), k zobrazení zbývajicího času lze použít příkaz ttl(\"KEY\")"
   ]
  },
  {
   "cell_type": "code",
   "execution_count": 36,
   "metadata": {},
   "outputs": [
    {
     "name": "stdout",
     "output_type": "stream",
     "text": [
      "je super\n"
     ]
    }
   ],
   "source": [
    "r.set(\"programovani\", \"je super\")\n",
    "r.expire(\"programovani\",10)\n",
    "print(r.get(\"programovani\"))\n"
   ]
  },
  {
   "cell_type": "code",
   "execution_count": 37,
   "metadata": {},
   "outputs": [
    {
     "data": {
      "text/plain": [
       "8"
      ]
     },
     "execution_count": 37,
     "metadata": {},
     "output_type": "execute_result"
    }
   ],
   "source": [
    "r.ttl(\"programovani\") #ukazuje dobu do expirace KEY programovani"
   ]
  },
  {
   "cell_type": "code",
   "execution_count": 38,
   "metadata": {},
   "outputs": [
    {
     "name": "stdout",
     "output_type": "stream",
     "text": [
      "je super\n"
     ]
    }
   ],
   "source": [
    "print(r.get(\"programovani\")) #v závislosti na době expirace vypíše VALUE nebo none"
   ]
  },
  {
   "cell_type": "markdown",
   "metadata": {},
   "source": [
    "variací příkazu GET je příkaz mget(\"KEY1\",\"KEY2\"), který dokáže vypsat více klíčů zároveň"
   ]
  },
  {
   "cell_type": "code",
   "execution_count": 42,
   "metadata": {},
   "outputs": [
    {
     "name": "stdout",
     "output_type": "stream",
     "text": [
      "['alcatel', 'jedine nafta', None]\n"
     ]
    }
   ],
   "source": [
    "r.set(\"telefon\", \"alcatel\")\n",
    "r.set(\"palivo\", \"jedine nafta\")\n",
    "print(r.mget(\"telefon\", \"palivo\",\"nekdo\")) #špatný KEY opět vypisuje hodnotu none"
   ]
  },
  {
   "cell_type": "markdown",
   "metadata": {},
   "source": [
    "další možností při získávaní VALUE, je získání pouze jeho části k tomu slouží příkaz getrange(\"KEY\", \"od znaku\",\"do znaku\")"
   ]
  },
  {
   "cell_type": "code",
   "execution_count": 44,
   "metadata": {},
   "outputs": [
    {
     "name": "stdout",
     "output_type": "stream",
     "text": [
      "citr\n"
     ]
    }
   ],
   "source": [
    "r.set(\"auto\", \"citroen se mi zrovna moc nelíbí\")\n",
    "print(r.getrange(\"auto\", 0, 3))"
   ]
  },
  {
   "cell_type": "markdown",
   "metadata": {},
   "source": [
    "k vypsání existujicích klíčů lze požít příkaz scan(\"hodnota cusroru, pro vypisování hodnot\") ten nevypisuje všechny klíče, ale pouze jejich část, v případě většího množství klíčů vrací funkce nejenom klíče, ale také hodnotu kursoru na od které lze pokračovat s vypisováním hodnot, pokud varcí hodnotu 0 byli již vypsány všechny klíče"
   ]
  },
  {
   "cell_type": "code",
   "execution_count": 49,
   "metadata": {},
   "outputs": [
    {
     "data": {
      "text/plain": [
       "(0, ['name', 'palivo', 'tma', 'ja', 'telefon', 'auto'])"
      ]
     },
     "execution_count": 49,
     "metadata": {},
     "output_type": "execute_result"
    }
   ],
   "source": [
    "r.set(\"tma\", \"svetlo\")\n",
    "r.scan(0)"
   ]
  },
  {
   "cell_type": "markdown",
   "metadata": {},
   "source": [
    "VALUE může být i seznamem, podle toho zda chceme přidávat na konec či začátek využijeme příkaz lpush(\"KEY\", \"VALUE\") pro začátek, či rpush(\"KEY\", \"VALUE\") pro konec, příkaz lrange(\"KEY\",\"od prvku\",\"po prvek\"))"
   ]
  },
  {
   "cell_type": "code",
   "execution_count": 64,
   "metadata": {},
   "outputs": [
    {
     "name": "stdout",
     "output_type": "stream",
     "text": [
      "['jih', 'sever', 'vychod']\n"
     ]
    }
   ],
   "source": [
    "r.delete(\"smer\") #ujistí se, že klíč není uložen, např při opětovném volání programu\n",
    "r.rpush(\"smer\", \"sever\")\n",
    "r.lpush(\"smer\", \"jih\")#uloží hodnotu na první pozici\n",
    "r.rpush(\"smer\", \"vychod\")\n",
    "r.rpush(\"smer\", \"zapad\")\n",
    "print(r.lrange(\"smer\", 0, 2))#VALUE západ již nespadá do rozsahu příkazu, proto se nevypíše\n"
   ]
  },
  {
   "cell_type": "markdown",
   "metadata": {},
   "source": [
    "dalšími zajimavými přkazy jsou příkazy incr(\"KEY\"), zvyšování uložené hodnoty VALUE, decr(\"KEY\"), snižování uložené hodnoty VALUE a incrby(\"KEY\",\"VALUE\"), zvyšování uložené hodnoty VALUE o počet"
   ]
  },
  {
   "cell_type": "code",
   "execution_count": 72,
   "metadata": {},
   "outputs": [
    {
     "name": "stdout",
     "output_type": "stream",
     "text": [
      "2\n",
      "-3\n",
      "-4\n"
     ]
    }
   ],
   "source": [
    "r.set(\"citac\", 1)\n",
    "r.incr(\"citac\")\n",
    "print(r.get(\"citac\"))\n",
    "r.incrby(\"citac\",5)\n",
    "print(r.get(\"citac\"))\n",
    "r.decr(\"citac\")\n",
    "print(r.get(\"citac\"))"
   ]
  },
  {
   "cell_type": "markdown",
   "metadata": {},
   "source": [
    "ukázky výše pokrývají a demonstrují základní příkazy jež lze v Rdisu využít, všechny jsou včetně dokukentace dostupné pod odkazem https://redis.io/commands"
   ]
  }
 ],
 "metadata": {
  "interpreter": {
   "hash": "5296e02b088a6eb1e520a917588066648616f957b341f026517af0c110beced1"
  },
  "kernelspec": {
   "display_name": "Python 3.8.6 64-bit",
   "language": "python",
   "name": "python3"
  },
  "language_info": {
   "codemirror_mode": {
    "name": "ipython",
    "version": 3
   },
   "file_extension": ".py",
   "mimetype": "text/x-python",
   "name": "python",
   "nbconvert_exporter": "python",
   "pygments_lexer": "ipython3",
   "version": "3.8.6"
  },
  "orig_nbformat": 4
 },
 "nbformat": 4,
 "nbformat_minor": 2
}
