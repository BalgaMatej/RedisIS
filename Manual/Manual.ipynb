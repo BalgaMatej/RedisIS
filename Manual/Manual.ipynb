{
 "cells": [
  {
   "cell_type": "markdown",
   "metadata": {},
   "source": [
    "Následujicí ukázka je demonstrací nejzákladnějšího užití Redisu\n",
    "\n",
    "Příkaz set(\"KEY\", \"VALUE\")\n",
    "pod zadaný KEY uloží data VALUE\n",
    "\n",
    "Příkaz get(\"KEY\")\n",
    "slouží k vypsání uložených dat (VALUE) pod zadaným klíčem (KEY)\n",
    "\n",
    "Příkaz delete(\"KEY\")\n",
    "smaže KEY"
   ]
  },
  {
   "cell_type": "code",
   "execution_count": 3,
   "metadata": {},
   "outputs": [
    {
     "name": "stdout",
     "output_type": "stream",
     "text": [
      "world\n",
      "None\n"
     ]
    }
   ],
   "source": [
    "import redis                                                                                #přidání knihovny do programu\n",
    "\n",
    "r = redis.Redis(host=\"localhost\", port=6379, charset=\"utf-8\", decode_responses=True)        #spuštění redis na localhostu na portu 6379\n",
    "\n",
    "r.set(\"hello\", \"world\") # True\n",
    "\n",
    "value = r.get(\"hello\")\n",
    "print(value) # b'world'\n",
    "\n",
    "r.delete(\"hello\") # True\n",
    "print(r.get(\"hello\")) # None"
   ]
  },
  {
   "cell_type": "markdown",
   "metadata": {},
   "source": [
    "something"
   ]
  }
 ],
 "metadata": {
  "interpreter": {
   "hash": "5296e02b088a6eb1e520a917588066648616f957b341f026517af0c110beced1"
  },
  "kernelspec": {
   "display_name": "Python 3.8.6 64-bit",
   "language": "python",
   "name": "python3"
  },
  "language_info": {
   "codemirror_mode": {
    "name": "ipython",
    "version": 3
   },
   "file_extension": ".py",
   "mimetype": "text/x-python",
   "name": "python",
   "nbconvert_exporter": "python",
   "pygments_lexer": "ipython3",
   "version": "3.8.6"
  },
  "orig_nbformat": 4
 },
 "nbformat": 4,
 "nbformat_minor": 2
}
